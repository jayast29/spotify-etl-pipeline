{
	"metadata": {
		"kernelspec": {
			"name": "glue_pyspark",
			"display_name": "Glue PySpark",
			"language": "python"
		},
		"language_info": {
			"name": "Python_Glue_Session",
			"mimetype": "text/x-python",
			"codemirror_mode": {
				"name": "python",
				"version": 3
			},
			"pygments_lexer": "python3",
			"file_extension": ".py"
		}
	},
	"nbformat_minor": 4,
	"nbformat": 4,
	"cells": [
		{
			"cell_type": "markdown",
			"source": "## Spotify Transformation Notebook",
			"metadata": {
				"editable": true,
				"trusted": true
			}
		},
		{
			"cell_type": "markdown",
			"source": "####  Run this cell to set up and start your interactive session.\n",
			"metadata": {
				"editable": true,
				"trusted": true
			}
		},
		{
			"cell_type": "code",
			"source": "%idle_timeout 2880\n%glue_version 5.0\n%worker_type G.1X\n%number_of_workers 5\n\nimport sys\nfrom awsglue.transforms import *\nfrom awsglue.utils import getResolvedOptions\nfrom pyspark.context import SparkContext\nfrom awsglue.context import GlueContext\nfrom awsglue.job import Job\n  \nsc = SparkContext.getOrCreate()\nglueContext = GlueContext(sc)\nspark = glueContext.spark_session\njob = Job(glueContext)",
			"metadata": {
				"trusted": true,
				"editable": true
			},
			"execution_count": 1,
			"outputs": [
				{
					"name": "stdout",
					"text": "Welcome to the Glue Interactive Sessions Kernel\nFor more information on available magic commands, please type %help in any new cell.\n\nPlease view our Getting Started page to access the most up-to-date information on the Interactive Sessions kernel: https://docs.aws.amazon.com/glue/latest/dg/interactive-sessions.html\nInstalled kernel version: 1.0.8 \nCurrent idle_timeout is None minutes.\nidle_timeout has been set to 2880 minutes.\nSetting Glue version to: 5.0\nPrevious worker type: None\nSetting new worker type to: G.1X\nPrevious number of workers: None\nSetting new number of workers to: 5\nTrying to create a Glue session for the kernel.\nSession Type: glueetl\nWorker Type: G.1X\nNumber of Workers: 5\nIdle Timeout: 2880\nSession ID: c8ae0d0e-eba8-4ee9-b71b-421a2a134ced\nApplying the following default arguments:\n--glue_kernel_version 1.0.8\n--enable-glue-datacatalog true\nWaiting for session c8ae0d0e-eba8-4ee9-b71b-421a2a134ced to get into ready status...\nSession c8ae0d0e-eba8-4ee9-b71b-421a2a134ced has been created.\n\n",
					"output_type": "stream"
				}
			]
		},
		{
			"cell_type": "markdown",
			"source": "### Import Libraries",
			"metadata": {}
		},
		{
			"cell_type": "code",
			"source": "import sys\nfrom awsglue.transforms import *\nfrom awsglue.utils import getResolvedOptions\nfrom pyspark.context import SparkContext\nfrom awsglue.context import GlueContext\nfrom awsglue.job import Job\nfrom pyspark.sql.functions import explode, col, to_date\nfrom datetime import datetime\nfrom awsglue.dynamicframe import DynamicFrame",
			"metadata": {
				"trusted": true,
				"tags": []
			},
			"execution_count": 9,
			"outputs": [
				{
					"name": "stdout",
					"text": "\n",
					"output_type": "stream"
				}
			]
		},
		{
			"cell_type": "markdown",
			"source": "### Source S3 path",
			"metadata": {}
		},
		{
			"cell_type": "code",
			"source": "s3_path = \"s3://spotify-bucket-jay/staging_data/raw/\"\n\n# Load raw data from S3\n\nsource_dymf = glueContext.create_dynamic_frame_from_options(\n    connection_type=\"s3\",\n    connection_options={\"paths\":[s3_path]},\n    format=\"json\"\n)",
			"metadata": {
				"trusted": true,
				"tags": []
			},
			"execution_count": null,
			"outputs": [
				{
					"name": "stdout",
					"text": "Welcome to the Glue Interactive Sessions Kernel\nFor more information on available magic commands, please type %help in any new cell.\n\nPlease view our Getting Started page to access the most up-to-date information on the Interactive Sessions kernel: https://docs.aws.amazon.com/glue/latest/dg/interactive-sessions.html\nInstalled kernel version: 1.0.8 \nTrying to create a Glue session for the kernel.\nSession Type: glueetl\nSession ID: ba2e12e0-7b54-4999-955a-99d07b88adcf\nApplying the following default arguments:\n--glue_kernel_version 1.0.8\n--enable-glue-datacatalog true\nWaiting for session ba2e12e0-7b54-4999-955a-99d07b88adcf to get into ready status...\n",
					"output_type": "stream"
				}
			]
		},
		{
			"cell_type": "code",
			"source": "spotify_df = source_dymf.toDF()",
			"metadata": {
				"trusted": true,
				"tags": []
			},
			"execution_count": 5,
			"outputs": [
				{
					"name": "stdout",
					"text": "\n",
					"output_type": "stream"
				}
			]
		},
		{
			"cell_type": "markdown",
			"source": "### Transform Data",
			"metadata": {}
		},
		{
			"cell_type": "code",
			"source": "\n# Processing Functions\n\ndef process_albums(df):\n    df_albums = df.withColumn(\"items\", explode(\"items\")).select(\n        col(\"items.track.album.id\").alias(\"album_id\"),\n        col(\"items.track.album.name\").alias(\"album_name\"),\n        col(\"items.track.album.release_date\").alias(\"release_date\"),\n        col(\"items.track.album.total_tracks\").alias(\"total_tracks\"),\n        col(\"items.track.album.external_urls.spotify\").alias(\"url\")\n    ).drop_duplicates([\"album_id\"])\n    \n    return df_albums\n\n\ndef process_artists(df):\n    df_items_exploded = df.select(explode(col(\"items\")).alias(\"item\"))    \n    df_artists_exploded = df_items_exploded.select(explode(col(\"item.track.artists\")).alias(\"artist\"))\n    \n    df_artists = df_artists_exploded.select(\n        col(\"artist.id\").alias(\"artist_id\"),\n        col(\"artist.name\").alias(\"artist_name\"),\n        col(\"artist.external_urls.spotify\").alias(\"external_url\")\n    ).drop_duplicates([\"artist_id\"])\n    \n    return df_artists\n\ndef process_songs(df):\n    df_exploded = df.select(explode(col(\"items\")).alias(\"item\"))\n    \n    df_songs = df_exploded.select(\n        col(\"item.track.id\").alias(\"song_id\"),\n        col(\"item.track.name\").alias(\"song_name\"),\n        col(\"item.track.duration_ms\").alias(\"duration_ms\"),\n        col(\"item.track.external_urls.spotify\").alias(\"url\"),\n        col(\"item.track.popularity\").alias(\"popularity\"),\n        col(\"item.added_at\").alias(\"song_added\"),\n        col(\"item.track.album.id\").alias(\"album_id\"),\n        col(\"item.track.artists\")[0][\"id\"].alias(\"artist_id\")\n    ).drop_duplicates([\"song_id\"])\n    \n    df_songs = df_songs.withColumn(\"song_added\", to_date(col(\"song_added\")))\n    \n    return df_songs\n",
			"metadata": {
				"trusted": true,
				"tags": []
			},
			"execution_count": 37,
			"outputs": [
				{
					"name": "stdout",
					"text": "\n",
					"output_type": "stream"
				}
			]
		},
		{
			"cell_type": "code",
			"source": "# Process Data\n\nalbums_df = process_albums(spotify_df)\nalbums_df.show()",
			"metadata": {
				"trusted": true,
				"tags": []
			},
			"execution_count": 25,
			"outputs": [
				{
					"name": "stdout",
					"text": "+--------------------+--------------------+------------+------------+--------------------+\n|            album_id|          album_name|release_date|total_tracks|                 url|\n+--------------------+--------------------+------------+------------+--------------------+\n|03guxdOi12XJbnvxv...|           Submarine|  2024-05-31|          14|https://open.spot...|\n|07V9HO6Djetw5j5lX...|    So Close To What|  2025-02-20|          16|https://open.spot...|\n|0QLILSOq1IqAqx62d...|     back to friends|  2024-12-27|           1|https://open.spot...|\n|0Rfqw98N7kZ4qVPGW...|      Strange Trails|  2015-04-07|          14|https://open.spot...|\n|0XKconI47eiBP6qPY...|The Rise and Fall...|  2023-09-21|          14|https://open.spot...|\n|0hBRqPYPXhr1RkTDG...|The Secret of Us ...|  2024-10-18|          20|https://open.spot...|\n|0hvT3yIEysuuvkK73...|                 GNX|  2024-11-22|          12|https://open.spot...|\n|0sWJ3v0FROzcNzyjN...|           LA CIUDAD|  2024-12-24|          12|https://open.spot...|\n|15XcLhiVMlSOipUdd...|                MUSE|  2024-07-19|           7|https://open.spot...|\n|168CdR21lfn0TTyw1...|Fireworks & Rolle...|  2024-04-05|          15|https://open.spot...|\n|19m6pwPmwNFSPV7wt...|           undressed|  2025-03-21|           1|https://open.spot...|\n|1Ss0ArMRr91m83mOg...|                 GNX|  2024-11-21|          12|https://open.spot...|\n|1WAjjRMfZjEXtB0lQ...|    Good Luck, Babe!|  2024-04-05|           1|https://open.spot...|\n|1eCGY9WJpYgtaFh1L...|You'll Be Alright...|  2024-09-26|          11|https://open.spot...|\n|1vWMw6pu3err6qqZz...|                Ruby|  2025-03-07|          15|https://open.spot...|\n|2MHUaRi9OCyTN02So...|              MAYHEM|  2025-03-07|          14|https://open.spot...|\n|2WOyuTsNHF90SryrS...|             Silakbo|  2025-01-17|          10|https://open.spot...|\n|338NDGMHtB4t5mp8R...|   Mi Vida Mi Muerte|  2025-02-14|          21|https://open.spot...|\n|3OxfaVgvTxUTy7276...|   Hurry Up Tomorrow|  2025-01-31|          22|https://open.spot...|\n|3PgvJGHxtoablFQjD...|       Te Quería Ver|  2025-01-31|           1|https://open.spot...|\n+--------------------+--------------------+------------+------------+--------------------+\nonly showing top 20 rows\n",
					"output_type": "stream"
				}
			]
		},
		{
			"cell_type": "code",
			"source": "artists_df = process_artists(spotify_df)\nartists_df.show()",
			"metadata": {
				"trusted": true,
				"tags": []
			},
			"execution_count": 18,
			"outputs": [
				{
					"name": "stdout",
					"text": "+--------------------+-----------------+--------------------+\n|           artist_id|      artist_name|        external_url|\n+--------------------+-----------------+--------------------+\n|0du5cEVh5yTK9QJze...|       Bruno Mars|https://open.spot...|\n|0fTSzq9jAh4c36UVb...|      Alex Warren|https://open.spot...|\n|12GqGscKJx3aE4t07...|       Peso Pluma|https://open.spot...|\n|1HY2Jd0NmPuamShAr...|        Lady Gaga|https://open.spot...|\n|1Xyo4u8uXC1ZmMpat...|       The Weeknd|https://open.spot...|\n|1Yj5Xey7kTwvZla8s...|          Cris Mj|https://open.spot...|\n|1iCnM8foFssWlPRLf...|       Gigi Perez|https://open.spot...|\n|1jiZvw42D4oquLl24...|    Lefty Gunplay|https://open.spot...|\n|1oSPZhvZMIrWW5I41...|            Jimin|https://open.spot...|\n|1pBLC0qVRTB5zVMut...|   Lily-Rose Depp|https://open.spot...|\n|22wbnEMDvgVIAGdFe...|     Benson Boone|https://open.spot...|\n|250b0Wlc5Vk0CoUsa...|           JENNIE|https://open.spot...|\n|2OFij1ppCwYFCOTq7...|     bees & honey|https://open.spot...|\n|2YZyLoL8N0Wb9xBt1...|   Kendrick Lamar|https://open.spot...|\n|2kxP07DLgs4xlWz8Y...|             NIKI|https://open.spot...|\n|2sSGPbdZJkaSE2Abc...|       The Marías|https://open.spot...|\n|2sil8z5kiy4r76CRT...|The Goo Goo Dolls|https://open.spot...|\n|2wnVvfvSkFJbtOint...|            Jøtta|https://open.spot...|\n|33qOK5uJ8AR2xuQQA...|      Teddy Swims|https://open.spot...|\n|3DeOmVSmpv7WknXoo...|            Alleh|https://open.spot...|\n+--------------------+-----------------+--------------------+\nonly showing top 20 rows\n",
					"output_type": "stream"
				}
			]
		},
		{
			"cell_type": "code",
			"source": "songs_df = process_songs(spotify_df)\nsongs_df.show()",
			"metadata": {
				"trusted": true,
				"tags": []
			},
			"execution_count": 27,
			"outputs": [
				{
					"name": "stdout",
					"text": "+--------------------+--------------------+-----------+--------------------+----------+----------+--------------------+--------------------+\n|             song_id|           song_name|duration_ms|                 url|popularity|song_added|            album_id|           artist_id|\n+--------------------+--------------------+-----------+--------------------+----------+----------+--------------------+--------------------+\n|0DMJz677XfXiiruhI...|            VITAMINA|     208743|https://open.spot...|        92|2025-04-28|6jf5qinEHzsxyBQgv...|3Y9A8EQQtWU8RStiT...|\n|0FIDCNYYjNvPVimz5...|Timeless (feat Pl...|     256000|https://open.spot...|        95|2025-04-28|3OxfaVgvTxUTy7276...|1Xyo4u8uXC1ZmMpat...|\n|0FTmksd2dxiE5e3rW...|     back to friends|     199032|https://open.spot...|        93|2025-04-28|0QLILSOq1IqAqx62d...|4G9NDjRyZFDlJKMRL...|\n|0WbMK4wrZ1wFSty9F...|    Good Luck, Babe!|     218423|https://open.spot...|        95|2025-04-28|1WAjjRMfZjEXtB0lQ...|7GlBOeep6PqTfFi59...|\n|0aB0v4027ukVziUGw...|tv off (feat. lef...|     220690|https://open.spot...|        94|2025-04-28|0hvT3yIEysuuvkK73...|2YZyLoL8N0Wb9xBt1...|\n|0fK7ie6XwGxQTIkpF...|         like JENNIE|     123517|https://open.spot...|        96|2025-04-28|1vWMw6pu3err6qqZz...|250b0Wlc5Vk0CoUsa...|\n|17phhZDn6oGtzMe56...|        Lose Control|     210688|https://open.spot...|        92|2025-04-28|7nacKlk586eLRBSIs...|33qOK5uJ8AR2xuQQA...|\n|1JSTJqkT5qHq8MDJn...|Every Breath You ...|     253920|https://open.spot...|        92|2025-04-28|5W9OT0a5iZlBr83a9...|5NGO30tJxFlKixkPS...|\n|1UPB5rYJ0bzn6mNSo...|You'll Be in My H...|     241776|https://open.spot...|        91|2025-04-28|7GZpa8xckIRPFIbT4...|2kxP07DLgs4xlWz8Y...|\n|2262bWmqomIaJXwCR...|         Sailor Song|     211978|https://open.spot...|        97|2025-04-28|68CN2LzY8MoxO2udy...|1iCnM8foFssWlPRLf...|\n|2CGNAOSuO1MEFCbBR...|   luther (with sza)|     177598|https://open.spot...|        94|2025-04-28|1Ss0ArMRr91m83mOg...|2YZyLoL8N0Wb9xBt1...|\n|2HRqTpkrJO5ggZyyK...|            Espresso|     175459|https://open.spot...|        91|2025-04-28|3iPSVi54hsacKKl1x...|74KM79TiuVKeVCqs8...|\n|2LHNTC9QZxsL3nWpt...|         Abracadabra|     223398|https://open.spot...|        89|2025-04-28|2MHUaRi9OCyTN02So...|1HY2Jd0NmPuamShAr...|\n|2QjOHCTQ1Jl3zawyY...|     Sweater Weather|     240400|https://open.spot...|        92|2025-04-28|4xkM0BwLM9H2IUcbY...|77SW9BnxLY8rJ0Rci...|\n|2RkZ5LkEzeHGRsmDq...|            Ordinary|     186964|https://open.spot...|        90|2025-04-28|1eCGY9WJpYgtaFh1L...|0fTSzq9jAh4c36UVb...|\n|2esZG2XFtuoWWA9Af...|           Gata Only|     222000|https://open.spot...|        82|2025-04-28|6MikZBKCtKfPM4439...|7CvTknweLr9feJtRG...|\n|2lTm559tuIvatlT1u...|   BAILE INoLVIDABLE|     367725|https://open.spot...|        96|2025-04-28|5K79FLRUCSysQnVES...|4q3ewBCX7sLwd24eu...|\n|2u9S9JJ6hTZS3Vf22...|               NOKIA|     241023|https://open.spot...|        94|2025-04-28|6Rl6YoCarF2GHPSQm...|3TVXtAsR1Inumwj47...|\n|2wG1mwTiuvqll9YYL...|PASSO BEM SOLTO -...|     116072|https://open.spot...|        72|2025-04-28|69xSmrFHBZvhk85cW...|5SCDfg1YoEfI5gFtX...|\n|35ISBknsCeZQtq66x...|               Messy|     284066|https://open.spot...|        90|2025-04-28|3uTpTaMOynCYKV5At...|67FB4n52MgexGQIG8...|\n+--------------------+--------------------+-----------+--------------------+----------+----------+--------------------+--------------------+\nonly showing top 20 rows\n",
					"output_type": "stream"
				}
			]
		},
		{
			"cell_type": "markdown",
			"source": "### Write Transformed Data to S3",
			"metadata": {}
		},
		{
			"cell_type": "code",
			"source": "def write_to_s3(df, path_suffix, format_type=\"csv\"):\n    \n    # Convert back to DynamicFrame\n    dynamic_frame = DynamicFrame.fromDF(df, glueContext, \"dynamic_frame\")\n    glueContext.write_dynamic_frame.from_options(\n        frame=dynamic_frame,\n        connection_type=\"s3\",\n        connection_options={\"path\": f\"s3://spotify-bucket-jay/transformed_data/{path_suffix}/\"},\n        format=format_type\n    )",
			"metadata": {
				"trusted": true,
				"tags": []
			},
			"execution_count": 32,
			"outputs": [
				{
					"name": "stdout",
					"text": "\n",
					"output_type": "stream"
				}
			]
		},
		{
			"cell_type": "code",
			"source": "write_to_s3(albums_df, \"albums/album_transformed_{}\".format(datetime.now().strftime(\"%Y-%m-%d\")), \"csv\")\nwrite_to_s3(artists_df, \"artists/artist_transformed_{}\".format(datetime.now().strftime(\"%Y-%m-%d\")), \"csv\")\nwrite_to_s3(songs_df, \"songs/songs_transformed_{}\".format(datetime.now().strftime(\"%Y-%m-%d\")), \"csv\")",
			"metadata": {
				"trusted": true,
				"tags": []
			},
			"execution_count": 34,
			"outputs": [
				{
					"name": "stdout",
					"text": "\n",
					"output_type": "stream"
				}
			]
		},
		{
			"cell_type": "code",
			"source": "job.commit()",
			"metadata": {
				"trusted": true,
				"tags": []
			},
			"execution_count": 35,
			"outputs": [
				{
					"name": "stdout",
					"text": "\n",
					"output_type": "stream"
				}
			]
		},
		{
			"cell_type": "code",
			"source": "",
			"metadata": {},
			"execution_count": null,
			"outputs": []
		}
	]
}